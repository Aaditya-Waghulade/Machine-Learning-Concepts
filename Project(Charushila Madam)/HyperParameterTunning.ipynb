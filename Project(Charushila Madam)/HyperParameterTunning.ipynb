{
 "cells": [
  {
   "cell_type": "code",
   "execution_count": 199,
   "id": "1c023334-aeb4-4f7c-a377-b8e40cc6ddbd",
   "metadata": {},
   "outputs": [],
   "source": [
    "#Importing Libraries of python\n",
    "import pandas as pd\n",
    "import numpy as np\n",
    "import matplotlib as plt\n"
   ]
  },
  {
   "cell_type": "code",
   "execution_count": 200,
   "id": "9f9c257a-8c60-4ca4-abed-5149a9076052",
   "metadata": {},
   "outputs": [
    {
     "data": {
      "text/html": [
       "<div>\n",
       "<style scoped>\n",
       "    .dataframe tbody tr th:only-of-type {\n",
       "        vertical-align: middle;\n",
       "    }\n",
       "\n",
       "    .dataframe tbody tr th {\n",
       "        vertical-align: top;\n",
       "    }\n",
       "\n",
       "    .dataframe thead th {\n",
       "        text-align: right;\n",
       "    }\n",
       "</style>\n",
       "<table border=\"1\" class=\"dataframe\">\n",
       "  <thead>\n",
       "    <tr style=\"text-align: right;\">\n",
       "      <th></th>\n",
       "      <th>Sr.No</th>\n",
       "      <th>ID</th>\n",
       "      <th>AGE</th>\n",
       "      <th>Smoking</th>\n",
       "      <th>PackHistory</th>\n",
       "      <th>MWT1</th>\n",
       "      <th>MWT2</th>\n",
       "      <th>MWT1Best</th>\n",
       "      <th>FEV1</th>\n",
       "      <th>FVC</th>\n",
       "      <th>FEV1/FVC</th>\n",
       "      <th>CAT</th>\n",
       "      <th>Hypertension</th>\n",
       "      <th>SGRQ</th>\n",
       "      <th>gender</th>\n",
       "      <th>Diabetes</th>\n",
       "      <th>copd</th>\n",
       "    </tr>\n",
       "  </thead>\n",
       "  <tbody>\n",
       "    <tr>\n",
       "      <th>0</th>\n",
       "      <td>14</td>\n",
       "      <td>14</td>\n",
       "      <td>74</td>\n",
       "      <td>1</td>\n",
       "      <td>20.0</td>\n",
       "      <td>213.0</td>\n",
       "      <td>270.0</td>\n",
       "      <td>270.0</td>\n",
       "      <td>1.79</td>\n",
       "      <td>2.62</td>\n",
       "      <td>0.68</td>\n",
       "      <td>24</td>\n",
       "      <td>0</td>\n",
       "      <td>45.00</td>\n",
       "      <td>0</td>\n",
       "      <td>0</td>\n",
       "      <td>mild</td>\n",
       "    </tr>\n",
       "    <tr>\n",
       "      <th>1</th>\n",
       "      <td>25</td>\n",
       "      <td>25</td>\n",
       "      <td>75</td>\n",
       "      <td>1</td>\n",
       "      <td>45.0</td>\n",
       "      <td>282.0</td>\n",
       "      <td>300.0</td>\n",
       "      <td>300.0</td>\n",
       "      <td>2.35</td>\n",
       "      <td>4.12</td>\n",
       "      <td>0.57</td>\n",
       "      <td>23</td>\n",
       "      <td>1</td>\n",
       "      <td>58.25</td>\n",
       "      <td>1</td>\n",
       "      <td>0</td>\n",
       "      <td>mild</td>\n",
       "    </tr>\n",
       "  </tbody>\n",
       "</table>\n",
       "</div>"
      ],
      "text/plain": [
       "   Sr.No  ID  AGE  Smoking  PackHistory   MWT1   MWT2  MWT1Best  FEV1   FVC  \\\n",
       "0     14  14   74        1         20.0  213.0  270.0     270.0  1.79  2.62   \n",
       "1     25  25   75        1         45.0  282.0  300.0     300.0  2.35  4.12   \n",
       "\n",
       "   FEV1/FVC  CAT  Hypertension   SGRQ  gender  Diabetes  copd  \n",
       "0      0.68   24             0  45.00       0         0  mild  \n",
       "1      0.57   23             1  58.25       1         0  mild  "
      ]
     },
     "execution_count": 200,
     "metadata": {},
     "output_type": "execute_result"
    }
   ],
   "source": [
    "#reading csv\n",
    "df = pd.read_csv(\"copd1.csv\")\n",
    "df.head(2)"
   ]
  },
  {
   "cell_type": "markdown",
   "id": "7631819b-d3aa-4673-892b-3135dbeadee0",
   "metadata": {},
   "source": [
    "Here we get to know that:\n",
    "1. Smoking =1 or 0,\n",
    "where 1 is yes and 0 is no smoke.\n",
    "2. Hypertension = 1 or 0,\n",
    " where 1 is for yes and 0 is for no.\n",
    "3. Diabetes = 1 or 0,\n",
    "   where 1 is for positive and 0 for Negative.\n",
    "4. Gender = 1 or 0,\n",
    "   where 1 is for Male and 0 is for female."
   ]
  },
  {
   "cell_type": "markdown",
   "id": "1c3c829f-c42c-4fdd-a5d1-286be44faaf9",
   "metadata": {},
   "source": [
    "# 1️⃣ Pre-Processing the data\n",
    "1. Sr.No And ID columns are useless so we will drop them first\n",
    "2. COPD is the dependable variables so we will drop it also\n",
    "3. Converting copd column in digits\n",
    "### 2️⃣ Target column is \"copd\" has total 4 values\n",
    "1. mild\n",
    "2. moderate\n",
    "3. severe\n",
    "4. very severe\n",
    "* So here we will use label encoder for evaluating them in numbers as because machine learning algorithms only works on numbers"
   ]
  },
  {
   "cell_type": "code",
   "execution_count": 201,
   "id": "301ba197-237a-474f-b535-01da3c55ec81",
   "metadata": {},
   "outputs": [],
   "source": [
    "from sklearn.preprocessing import LabelEncoder\n",
    "le_copd=LabelEncoder()\n",
    "df['copd_n']=le_copd.fit_transform(df['copd'])"
   ]
  },
  {
   "cell_type": "code",
   "execution_count": 202,
   "id": "95aaddbc-23bd-4ec3-94fa-731abd05b192",
   "metadata": {},
   "outputs": [
    {
     "data": {
      "text/plain": [
       "(1010, 15)"
      ]
     },
     "execution_count": 202,
     "metadata": {},
     "output_type": "execute_result"
    }
   ],
   "source": [
    "df1=df.drop([\"Sr.No\",\"ID\",\"copd\"],axis=\"columns\")\n",
    "df1.shape"
   ]
  },
  {
   "cell_type": "code",
   "execution_count": 203,
   "id": "3ca81d69-4e6d-4391-b832-f4c2f30cba6e",
   "metadata": {},
   "outputs": [],
   "source": [
    "df1.fillna(0, inplace=True)"
   ]
  },
  {
   "cell_type": "code",
   "execution_count": 204,
   "id": "d23f7866-b767-4f48-bdd2-1b62ed3c647a",
   "metadata": {},
   "outputs": [],
   "source": [
    "X=df1.drop([\"copd_n\"],axis=\"columns\")\n",
    "y=df1['copd_n']"
   ]
  },
  {
   "cell_type": "code",
   "execution_count": null,
   "id": "b384355b-e7ed-43a8-9fcf-ed8c83b289eb",
   "metadata": {},
   "outputs": [],
   "source": []
  },
  {
   "cell_type": "code",
   "execution_count": null,
   "id": "e34ce4cc-b06f-41f1-8971-e9cb902a3b3b",
   "metadata": {},
   "outputs": [],
   "source": []
  },
  {
   "cell_type": "markdown",
   "id": "613edc20-e799-4562-a73a-a54487aed3f3",
   "metadata": {},
   "source": [
    "# 3️⃣ SKLEARN LIB IMPORTS⬇️"
   ]
  },
  {
   "cell_type": "markdown",
   "id": "7a4f7c78-ca95-44d5-93db-be68feecda38",
   "metadata": {},
   "source": [
    "#### Importing All the Algorithms we need.\n",
    "1. SVC\n",
    "2. DecisionTree\n",
    "3. KNN\n",
    "4. voting classifier\n",
    "5. Random forest,\n",
    "6. XGBOOST,\n",
    "7. Gaussian Naïve Bayes"
   ]
  },
  {
   "cell_type": "code",
   "execution_count": 205,
   "id": "0ae1d0c9-61e3-42df-947c-823f6d4a2277",
   "metadata": {},
   "outputs": [],
   "source": [
    "from sklearn.svm import SVC \n",
    "from sklearn.tree import DecisionTreeClassifier\n",
    "from sklearn.cluster import KMeans\n",
    "from sklearn.naive_bayes import GaussianNB, MultinomialNB\n",
    "from sklearn.ensemble import RandomForestClassifier,VotingClassifier\n",
    "from sklearn.linear_model import Lasso\n",
    "from sklearn.neighbors import KNeighborsClassifier\n",
    "import xgboost as xgb"
   ]
  },
  {
   "cell_type": "code",
   "execution_count": 274,
   "id": "2cfcbfaf-ae28-4760-9306-39162b2b3291",
   "metadata": {},
   "outputs": [],
   "source": [
    "#importing 'train_test_split' for training and testing Data\n",
    "from sklearn.model_selection import train_test_split\n",
    "from sklearn.metrics import confusion_matrix,precision_score, accuracy_score,recall_score,f1_score\n"
   ]
  },
  {
   "cell_type": "code",
   "execution_count": 207,
   "id": "ea986ac2-86e1-4d20-87bd-5e9355b715c6",
   "metadata": {},
   "outputs": [],
   "source": [
    "X_train,X_test,y_train,y_test = train_test_split( X,y,test_size=0.2)"
   ]
  },
  {
   "cell_type": "code",
   "execution_count": 275,
   "id": "d72dc201-fc5a-4270-b25c-1e05a58d2c7d",
   "metadata": {},
   "outputs": [
    {
     "data": {
      "text/plain": [
       "0.9851485148514851"
      ]
     },
     "execution_count": 275,
     "metadata": {},
     "output_type": "execute_result"
    }
   ],
   "source": [
    "#>>1.SVC()\n",
    "model_svc=SVC(C=1, gamma=8)\n",
    "model_svc.fit(X_train,y_train)\n",
    "predictions = model_svc.predict(X_test)\n",
    "model_svc.score(X_test,y_test)"
   ]
  },
  {
   "cell_type": "code",
   "execution_count": 276,
   "id": "d6c4a45f-2bd2-4681-bf18-b54d74e896b8",
   "metadata": {},
   "outputs": [
    {
     "data": {
      "text/plain": [
       "0.9919354838709677"
      ]
     },
     "execution_count": 276,
     "metadata": {},
     "output_type": "execute_result"
    }
   ],
   "source": [
    "#Precision_call\n",
    "predictions = model_svc.predict(X_test)\n",
    "precision_score(y_test, predictions, average='macro')"
   ]
  },
  {
   "cell_type": "code",
   "execution_count": 277,
   "id": "82d4a591-c67b-4878-8551-8dfbc81d1ba3",
   "metadata": {},
   "outputs": [
    {
     "data": {
      "text/plain": [
       "0.97215821812596"
      ]
     },
     "execution_count": 277,
     "metadata": {},
     "output_type": "execute_result"
    }
   ],
   "source": [
    "#Recall_score\n",
    "recall_score(y_test, predictions, average='macro')"
   ]
  },
  {
   "cell_type": "code",
   "execution_count": 278,
   "id": "bc9e6f3b-f2a6-407e-be39-b1c5547af077",
   "metadata": {},
   "outputs": [
    {
     "name": "stdout",
     "output_type": "stream",
     "text": [
      "              precision    recall  f1-score   support\n",
      "\n",
      "     class 0       0.97      1.00      0.98        90\n",
      "     class 1       1.00      0.93      0.97        15\n",
      "     class 2       1.00      0.97      0.99        35\n",
      "     class 4       1.00      0.98      0.99        62\n",
      "\n",
      "    accuracy                           0.99       202\n",
      "   macro avg       0.99      0.97      0.98       202\n",
      "weighted avg       0.99      0.99      0.99       202\n",
      "\n"
     ]
    }
   ],
   "source": [
    "#fi_score\n",
    "from sklearn.metrics import classification_report\n",
    "target_names = ['class 0', 'class 1', 'class 2','class 4']\n",
    "print(classification_report(y_test, predictions, target_names=target_names))"
   ]
  },
  {
   "cell_type": "code",
   "execution_count": 279,
   "id": "4d77aefd-8c5a-44d8-8f90-db28fa3b6ded",
   "metadata": {},
   "outputs": [
    {
     "data": {
      "text/plain": [
       "0.9851485148514851"
      ]
     },
     "execution_count": 279,
     "metadata": {},
     "output_type": "execute_result"
    }
   ],
   "source": [
    "# Sensitivity ans specifity\n",
    "imblearn.metrics.sensitivity_score(y_test, predictions, average='micro')"
   ]
  },
  {
   "cell_type": "code",
   "execution_count": 280,
   "id": "588a3390-4b08-495c-945c-80eb01afbbb0",
   "metadata": {},
   "outputs": [
    {
     "data": {
      "text/plain": [
       "0.995049504950495"
      ]
     },
     "execution_count": 280,
     "metadata": {},
     "output_type": "execute_result"
    }
   ],
   "source": [
    "imblearn.metrics.specificity_score(y_test, predictions, average='micro')"
   ]
  },
  {
   "cell_type": "code",
   "execution_count": 273,
   "id": "0d6668a3-e91b-4efa-b3a9-a5fd5a83054d",
   "metadata": {},
   "outputs": [
    {
     "data": {
      "text/plain": [
       "0.9851485148514851"
      ]
     },
     "execution_count": 273,
     "metadata": {},
     "output_type": "execute_result"
    }
   ],
   "source": [
    "# 2>>DecisionTreeClassifier\n",
    "model_dtc=DecisionTreeClassifier()\n",
    "model_dtc.fit(X_train,y_train)\n",
    "predictions = model_dtc.predict(X_test)\n",
    "model_svc.score(X_test,y_test)"
   ]
  },
  {
   "cell_type": "code",
   "execution_count": 262,
   "id": "bd9382b5-c0c2-4e32-bd76-1b96853f3ff5",
   "metadata": {},
   "outputs": [
    {
     "data": {
      "text/plain": [
       "1.0"
      ]
     },
     "execution_count": 262,
     "metadata": {},
     "output_type": "execute_result"
    }
   ],
   "source": [
    "# 2.1 Precision_call\n",
    "precision_score(y_test, predictions, average='macro')"
   ]
  },
  {
   "cell_type": "code",
   "execution_count": 263,
   "id": "5b98bd7b-d6b6-4658-89d0-faa59f5699f4",
   "metadata": {},
   "outputs": [
    {
     "data": {
      "text/plain": [
       "1.0"
      ]
     },
     "execution_count": 263,
     "metadata": {},
     "output_type": "execute_result"
    }
   ],
   "source": [
    "# 2.2 Recall\n",
    "recall_score(y_test, predictions, average='macro')"
   ]
  },
  {
   "cell_type": "code",
   "execution_count": 264,
   "id": "46c57b8e-feea-4a50-8dc7-c11b0a2be9b8",
   "metadata": {},
   "outputs": [
    {
     "data": {
      "text/plain": [
       "1.0"
      ]
     },
     "execution_count": 264,
     "metadata": {},
     "output_type": "execute_result"
    }
   ],
   "source": [
    "#2.3 F1\n",
    "f1_score(y_test, predictions,average='macro')"
   ]
  },
  {
   "cell_type": "code",
   "execution_count": 265,
   "id": "a759ac67-7588-4755-b5e6-d0c9d6718406",
   "metadata": {},
   "outputs": [
    {
     "data": {
      "text/plain": [
       "1.0"
      ]
     },
     "execution_count": 265,
     "metadata": {},
     "output_type": "execute_result"
    }
   ],
   "source": [
    "imblearn.metrics.sensitivity_score(y_test, predictions, average='micro')"
   ]
  },
  {
   "cell_type": "code",
   "execution_count": 266,
   "id": "42bdd2c4-7af7-4fff-aeab-5f35aafdff81",
   "metadata": {},
   "outputs": [
    {
     "data": {
      "text/plain": [
       "1.0"
      ]
     },
     "execution_count": 266,
     "metadata": {},
     "output_type": "execute_result"
    }
   ],
   "source": [
    "imblearn.metrics.specificity_score(y_test, predictions, average='micro')"
   ]
  },
  {
   "cell_type": "code",
   "execution_count": 253,
   "id": "1417a1eb-08a8-4982-a694-cb26a8919a38",
   "metadata": {},
   "outputs": [
    {
     "data": {
      "text/plain": [
       "0.995049504950495"
      ]
     },
     "execution_count": 253,
     "metadata": {},
     "output_type": "execute_result"
    }
   ],
   "source": [
    "# 3>>KMeans\n",
    "model_knn=KNeighborsClassifier(n_neighbors=1)\n",
    "model_knn.fit(X_train,y_train)\n",
    "predictions = model_knn.predict(X_test)\n",
    "model_knn.score(X_test,y_test)"
   ]
  },
  {
   "cell_type": "code",
   "execution_count": 254,
   "id": "a23fa062-2416-4b05-9971-0f660d7d3ef1",
   "metadata": {},
   "outputs": [
    {
     "data": {
      "text/plain": [
       "0.9930555555555556"
      ]
     },
     "execution_count": 254,
     "metadata": {},
     "output_type": "execute_result"
    }
   ],
   "source": [
    "#precision Call\n",
    "precision_score(y_test, predictions, average='macro')"
   ]
  },
  {
   "cell_type": "code",
   "execution_count": 255,
   "id": "bca9a0ad-a7df-4bfa-afef-2a22699c11ac",
   "metadata": {},
   "outputs": [
    {
     "data": {
      "text/plain": [
       "0.9959677419354839"
      ]
     },
     "execution_count": 255,
     "metadata": {},
     "output_type": "execute_result"
    }
   ],
   "source": [
    "#Recall\n",
    "recall_score(y_test, predictions, average='macro')"
   ]
  },
  {
   "cell_type": "code",
   "execution_count": 256,
   "id": "5fa1bcf4-793c-4fcf-947f-1f36ff86a370",
   "metadata": {},
   "outputs": [
    {
     "data": {
      "text/plain": [
       "0.9944463529142333"
      ]
     },
     "execution_count": 256,
     "metadata": {},
     "output_type": "execute_result"
    }
   ],
   "source": [
    "#F1 Score\n",
    "f1_score(y_test, predictions,average='macro')"
   ]
  },
  {
   "cell_type": "code",
   "execution_count": 257,
   "id": "241db62c-4bce-4485-aa2c-f9dda5b37f55",
   "metadata": {},
   "outputs": [
    {
     "data": {
      "text/plain": [
       "0.995049504950495"
      ]
     },
     "execution_count": 257,
     "metadata": {},
     "output_type": "execute_result"
    }
   ],
   "source": [
    "imblearn.metrics.sensitivity_score(y_test, predictions, average='micro')"
   ]
  },
  {
   "cell_type": "code",
   "execution_count": 258,
   "id": "64ee3b7b-241a-43a3-9382-c89a1e70c59e",
   "metadata": {},
   "outputs": [
    {
     "data": {
      "text/plain": [
       "0.9983498349834984"
      ]
     },
     "execution_count": 258,
     "metadata": {},
     "output_type": "execute_result"
    }
   ],
   "source": [
    "imblearn.metrics.specificity_score(y_test, predictions, average='micro')"
   ]
  },
  {
   "cell_type": "code",
   "execution_count": 247,
   "id": "d1897aac-c536-4ad6-bac3-538855c9e87a",
   "metadata": {},
   "outputs": [
    {
     "data": {
      "text/plain": [
       "0.693069306930693"
      ]
     },
     "execution_count": 247,
     "metadata": {},
     "output_type": "execute_result"
    }
   ],
   "source": [
    "#4>> GaussianNB\n",
    "model_dnb=GaussianNB()\n",
    "model_dnb.fit(X_train,y_train)\n",
    "predictions = model_dnb.predict(X_test)\n",
    "model_dnb.score(X_test,y_test)"
   ]
  },
  {
   "cell_type": "code",
   "execution_count": 248,
   "id": "0a73b3e7-2596-42d9-8793-adcf70b9e329",
   "metadata": {},
   "outputs": [
    {
     "data": {
      "text/plain": [
       "0.6898290013679891"
      ]
     },
     "execution_count": 248,
     "metadata": {},
     "output_type": "execute_result"
    }
   ],
   "source": [
    "#precision Call\n",
    "precision_score(y_test, predictions, average='macro')"
   ]
  },
  {
   "cell_type": "code",
   "execution_count": 249,
   "id": "c37339d2-6c10-4556-9ce7-aab4ef665fc8",
   "metadata": {},
   "outputs": [
    {
     "data": {
      "text/plain": [
       "0.7192780337941629"
      ]
     },
     "execution_count": 249,
     "metadata": {},
     "output_type": "execute_result"
    }
   ],
   "source": [
    "#Recall\n",
    "recall_score(y_test, predictions, average='macro')"
   ]
  },
  {
   "cell_type": "code",
   "execution_count": 250,
   "id": "a2ebb91a-ceb2-4b47-ab63-08a66f67e706",
   "metadata": {},
   "outputs": [
    {
     "data": {
      "text/plain": [
       "0.7008910444394316"
      ]
     },
     "execution_count": 250,
     "metadata": {},
     "output_type": "execute_result"
    }
   ],
   "source": [
    "#F1 Score\n",
    "f1_score(y_test, predictions,average='macro')"
   ]
  },
  {
   "cell_type": "code",
   "execution_count": 251,
   "id": "0d3b87f3-a171-4c08-b067-9a1e656b6ec7",
   "metadata": {},
   "outputs": [
    {
     "data": {
      "text/plain": [
       "0.693069306930693"
      ]
     },
     "execution_count": 251,
     "metadata": {},
     "output_type": "execute_result"
    }
   ],
   "source": [
    "imblearn.metrics.sensitivity_score(y_test, predictions, average='micro')"
   ]
  },
  {
   "cell_type": "code",
   "execution_count": 252,
   "id": "326fe59e-3480-4ed6-be95-66245f3fe74a",
   "metadata": {},
   "outputs": [
    {
     "data": {
      "text/plain": [
       "0.8976897689768977"
      ]
     },
     "execution_count": 252,
     "metadata": {},
     "output_type": "execute_result"
    }
   ],
   "source": [
    "imblearn.metrics.specificity_score(y_test, predictions, average='micro')"
   ]
  },
  {
   "cell_type": "code",
   "execution_count": 241,
   "id": "dba08346-e3b0-4e36-8897-d9f4faaae899",
   "metadata": {},
   "outputs": [
    {
     "data": {
      "text/plain": [
       "0.39603960396039606"
      ]
     },
     "execution_count": 241,
     "metadata": {},
     "output_type": "execute_result"
    }
   ],
   "source": [
    "#5 >> Gaussian Multinomial\n",
    "model_mnb=MultinomialNB()\n",
    "model_mnb.fit(X_train,y_train)\n",
    "predictions = model_mnb.predict(X_test)\n",
    "model_mnb.score(X_test,y_test)"
   ]
  },
  {
   "cell_type": "code",
   "execution_count": 242,
   "id": "68b4617a-80fa-4394-aff9-dd6d7d73cbad",
   "metadata": {},
   "outputs": [
    {
     "data": {
      "text/plain": [
       "0.40464212368390606"
      ]
     },
     "execution_count": 242,
     "metadata": {},
     "output_type": "execute_result"
    }
   ],
   "source": [
    "#precision Call\n",
    "precision_score(y_test, predictions, average='macro')"
   ]
  },
  {
   "cell_type": "code",
   "execution_count": 243,
   "id": "a51441f3-1a1c-4683-8d74-6fa16bed79fb",
   "metadata": {},
   "outputs": [
    {
     "data": {
      "text/plain": [
       "0.46146953405017915"
      ]
     },
     "execution_count": 243,
     "metadata": {},
     "output_type": "execute_result"
    }
   ],
   "source": [
    "#Recall\n",
    "recall_score(y_test, predictions, average='macro')"
   ]
  },
  {
   "cell_type": "code",
   "execution_count": 244,
   "id": "6f6b2675-3cfc-43a6-92f5-2328578bd76f",
   "metadata": {},
   "outputs": [
    {
     "data": {
      "text/plain": [
       "0.38293873088487046"
      ]
     },
     "execution_count": 244,
     "metadata": {},
     "output_type": "execute_result"
    }
   ],
   "source": [
    "#F1 Score\n",
    "f1_score(y_test, predictions,average='macro')"
   ]
  },
  {
   "cell_type": "code",
   "execution_count": 245,
   "id": "4e4459f8-2a0c-42cd-a019-980167882dd1",
   "metadata": {},
   "outputs": [
    {
     "data": {
      "text/plain": [
       "0.39603960396039606"
      ]
     },
     "execution_count": 245,
     "metadata": {},
     "output_type": "execute_result"
    }
   ],
   "source": [
    "imblearn.metrics.sensitivity_score(y_test, predictions, average='micro')"
   ]
  },
  {
   "cell_type": "code",
   "execution_count": 246,
   "id": "e5c14a05-2742-44db-b15a-8a95a70bc369",
   "metadata": {},
   "outputs": [
    {
     "data": {
      "text/plain": [
       "0.7986798679867987"
      ]
     },
     "execution_count": 246,
     "metadata": {},
     "output_type": "execute_result"
    }
   ],
   "source": [
    "imblearn.metrics.specificity_score(y_test, predictions, average='micro')"
   ]
  },
  {
   "cell_type": "code",
   "execution_count": 236,
   "id": "4c3f56b8-a4d1-48c1-91cd-75f16eb660d5",
   "metadata": {},
   "outputs": [
    {
     "data": {
      "text/plain": [
       "1.0"
      ]
     },
     "execution_count": 236,
     "metadata": {},
     "output_type": "execute_result"
    }
   ],
   "source": [
    "model_rfc=RandomForestClassifier(n_estimators = 25)\n",
    "model_rfc.fit(X_train,y_train)\n",
    "predictions = model_rfc.predict(X_test)\n",
    "model_rfc.score(X_test,y_test)"
   ]
  },
  {
   "cell_type": "code",
   "execution_count": 237,
   "id": "71b0dd29-7e42-43d4-baa9-8526e02878aa",
   "metadata": {},
   "outputs": [
    {
     "data": {
      "text/plain": [
       "1.0"
      ]
     },
     "execution_count": 237,
     "metadata": {},
     "output_type": "execute_result"
    }
   ],
   "source": [
    "#precision Call\n",
    "precision_score(y_test, predictions, average='macro')"
   ]
  },
  {
   "cell_type": "code",
   "execution_count": 238,
   "id": "9100e5fd-adf6-42c7-adf7-07cbad7bf065",
   "metadata": {},
   "outputs": [
    {
     "data": {
      "text/plain": [
       "1.0"
      ]
     },
     "execution_count": 238,
     "metadata": {},
     "output_type": "execute_result"
    }
   ],
   "source": [
    "#Recall\n",
    "recall_score(y_test, predictions, average='macro')"
   ]
  },
  {
   "cell_type": "code",
   "execution_count": 239,
   "id": "8c1846f3-9483-4c18-b154-931c13dd19d3",
   "metadata": {},
   "outputs": [
    {
     "data": {
      "text/plain": [
       "1.0"
      ]
     },
     "execution_count": 239,
     "metadata": {},
     "output_type": "execute_result"
    }
   ],
   "source": [
    "imblearn.metrics.sensitivity_score(y_test, predictions, average='micro')"
   ]
  },
  {
   "cell_type": "code",
   "execution_count": 240,
   "id": "2cc36ca3-b1a1-4331-a21b-dc5373d800d7",
   "metadata": {},
   "outputs": [
    {
     "data": {
      "text/plain": [
       "1.0"
      ]
     },
     "execution_count": 240,
     "metadata": {},
     "output_type": "execute_result"
    }
   ],
   "source": [
    "imblearn.metrics.specificity_score(y_test, predictions, average='micro')"
   ]
  },
  {
   "cell_type": "code",
   "execution_count": 188,
   "id": "7f8631e7-81f9-4c39-b627-143c2d19c857",
   "metadata": {},
   "outputs": [
    {
     "data": {
      "text/plain": [
       "1.0"
      ]
     },
     "execution_count": 188,
     "metadata": {},
     "output_type": "execute_result"
    }
   ],
   "source": [
    "#F1 Score\n",
    "f1_score(y_test, predictions,average='macro')"
   ]
  },
  {
   "cell_type": "code",
   "execution_count": 230,
   "id": "4a4b4a6b-4626-4cdf-9e14-3647e24155c3",
   "metadata": {},
   "outputs": [
    {
     "data": {
      "text/plain": [
       "0.995049504950495"
      ]
     },
     "execution_count": 230,
     "metadata": {},
     "output_type": "execute_result"
    }
   ],
   "source": [
    "#Voting Classifier\n",
    "votingclassifier = VotingClassifier(estimators=[ ('SVC', model_svc), ('DTC', model_dtc), ('KNN', model_knn)], voting='hard')\n",
    "votingclassifier.fit(X_train,y_train)\n",
    "predictions = votingclassifier.predict(X_test)\n",
    "votingclassifier.score(X_test,y_test)"
   ]
  },
  {
   "cell_type": "code",
   "execution_count": 231,
   "id": "e23227dd-764a-4251-a9d5-15e7d9285117",
   "metadata": {},
   "outputs": [
    {
     "data": {
      "text/plain": [
       "0.9972527472527473"
      ]
     },
     "execution_count": 231,
     "metadata": {},
     "output_type": "execute_result"
    }
   ],
   "source": [
    "#precision Call\n",
    "precision_score(y_test, predictions, average='macro')"
   ]
  },
  {
   "cell_type": "code",
   "execution_count": 232,
   "id": "c1f94032-8a55-4e33-a07e-3bfbf2405d57",
   "metadata": {},
   "outputs": [
    {
     "data": {
      "text/plain": [
       "0.9959677419354839"
      ]
     },
     "execution_count": 232,
     "metadata": {},
     "output_type": "execute_result"
    }
   ],
   "source": [
    "#Recall\n",
    "recall_score(y_test, predictions, average='macro')"
   ]
  },
  {
   "cell_type": "code",
   "execution_count": 233,
   "id": "f798a369-ee3e-49f1-87e3-9bae37cc7955",
   "metadata": {},
   "outputs": [
    {
     "data": {
      "text/plain": [
       "0.9965862642051835"
      ]
     },
     "execution_count": 233,
     "metadata": {},
     "output_type": "execute_result"
    }
   ],
   "source": [
    "#F1 Score\n",
    "f1_score(y_test, predictions,average='macro')"
   ]
  },
  {
   "cell_type": "code",
   "execution_count": 234,
   "id": "47bdf5ab-1cb4-4a80-b7da-3e3f7a307b9d",
   "metadata": {},
   "outputs": [
    {
     "data": {
      "text/plain": [
       "0.995049504950495"
      ]
     },
     "execution_count": 234,
     "metadata": {},
     "output_type": "execute_result"
    }
   ],
   "source": [
    "imblearn.metrics.sensitivity_score(y_test, predictions, average='micro')"
   ]
  },
  {
   "cell_type": "code",
   "execution_count": 235,
   "id": "82b4a109-ffce-4707-aa24-c8223b680698",
   "metadata": {},
   "outputs": [
    {
     "data": {
      "text/plain": [
       "0.9983498349834984"
      ]
     },
     "execution_count": 235,
     "metadata": {},
     "output_type": "execute_result"
    }
   ],
   "source": [
    "imblearn.metrics.specificity_score(y_test, predictions, average='micro')"
   ]
  },
  {
   "cell_type": "code",
   "execution_count": 211,
   "id": "2f46b03e-9718-4524-879e-cf3a6a53df48",
   "metadata": {},
   "outputs": [
    {
     "data": {
      "text/plain": [
       "1.0"
      ]
     },
     "execution_count": 211,
     "metadata": {},
     "output_type": "execute_result"
    }
   ],
   "source": [
    "#XGBOOST\n",
    "xgb_model = xgb.XGBClassifier(objective=\"binary:logistic\", random_state=42)\n",
    "xgb_model.fit(X, y)\n",
    "predictions  = xgb_model.predict(X_test)\n",
    "accuracy_score(y_test, predictions)"
   ]
  },
  {
   "cell_type": "code",
   "execution_count": 212,
   "id": "a61d14b8-027d-47e5-a5f0-0e0a1b1263aa",
   "metadata": {},
   "outputs": [
    {
     "data": {
      "text/plain": [
       "1.0"
      ]
     },
     "execution_count": 212,
     "metadata": {},
     "output_type": "execute_result"
    }
   ],
   "source": [
    "precision_score(y_test, predictions, average='macro')"
   ]
  },
  {
   "cell_type": "code",
   "execution_count": 213,
   "id": "b85a3df1-834b-4f02-9bc5-c1934c22b2e7",
   "metadata": {},
   "outputs": [
    {
     "data": {
      "text/plain": [
       "1.0"
      ]
     },
     "execution_count": 213,
     "metadata": {},
     "output_type": "execute_result"
    }
   ],
   "source": [
    "#Recall\n",
    "recall_score(y_test, predictions, average='macro')"
   ]
  },
  {
   "cell_type": "code",
   "execution_count": 214,
   "id": "8ae44747-85dd-42a0-b0ff-40d029b798cf",
   "metadata": {},
   "outputs": [
    {
     "data": {
      "text/plain": [
       "1.0"
      ]
     },
     "execution_count": 214,
     "metadata": {},
     "output_type": "execute_result"
    }
   ],
   "source": [
    "#F1 Score\n",
    "f1_score(y_test, predictions,average='macro')"
   ]
  },
  {
   "cell_type": "code",
   "execution_count": 228,
   "id": "5108ebec-9daa-4ce3-8b3b-868c663bdc12",
   "metadata": {},
   "outputs": [
    {
     "data": {
      "text/plain": [
       "1.0"
      ]
     },
     "execution_count": 228,
     "metadata": {},
     "output_type": "execute_result"
    }
   ],
   "source": [
    "imblearn.metrics.sensitivity_score(y_test, predictions, average='micro')"
   ]
  },
  {
   "cell_type": "code",
   "execution_count": 229,
   "id": "9535b92c-447f-477b-8190-818d159f0e20",
   "metadata": {},
   "outputs": [
    {
     "data": {
      "text/plain": [
       "1.0"
      ]
     },
     "execution_count": 229,
     "metadata": {},
     "output_type": "execute_result"
    }
   ],
   "source": [
    "imblearn.metrics.specificity_score(y_test, predictions, average='micro')"
   ]
  }
 ],
 "metadata": {
  "kernelspec": {
   "display_name": "Python 3 (ipykernel)",
   "language": "python",
   "name": "python3"
  },
  "language_info": {
   "codemirror_mode": {
    "name": "ipython",
    "version": 3
   },
   "file_extension": ".py",
   "mimetype": "text/x-python",
   "name": "python",
   "nbconvert_exporter": "python",
   "pygments_lexer": "ipython3",
   "version": "3.11.7"
  }
 },
 "nbformat": 4,
 "nbformat_minor": 5
}
